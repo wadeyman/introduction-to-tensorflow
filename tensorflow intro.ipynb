{
 "cells": [
  {
   "cell_type": "code",
   "execution_count": 3,
   "metadata": {},
   "outputs": [],
   "source": [
    "import pandas as pd\n",
    "import numpy as np\n",
    "from sklearn.model_selection import train_test_split"
   ]
  },
  {
   "cell_type": "markdown",
   "metadata": {},
   "source": [
    "We want to be able to split the dataset for training and testing."
   ]
  },
  {
   "cell_type": "code",
   "execution_count": 4,
   "metadata": {},
   "outputs": [],
   "source": [
    "df = pd.read_csv('Churn.csv')"
   ]
  },
  {
   "cell_type": "code",
   "execution_count": 5,
   "metadata": {},
   "outputs": [],
   "source": [
    "X = pd.get_dummies(df.drop(['Churn', 'Customer ID'], axis=1))\n",
    "y = df['Churn'].apply(lambda x: 1 if x=='Yes' else 0)"
   ]
  },
  {
   "cell_type": "code",
   "execution_count": 6,
   "metadata": {},
   "outputs": [],
   "source": [
    "x_train, x_test, y_train, y_test = train_test_split(X, y, test_size=.2)"
   ]
  },
  {
   "cell_type": "code",
   "execution_count": null,
   "metadata": {},
   "outputs": [],
   "source": []
  },
  {
   "cell_type": "code",
   "execution_count": 7,
   "metadata": {},
   "outputs": [
    {
     "data": {
      "text/plain": [
       "6082    0\n",
       "6130    0\n",
       "6342    1\n",
       "5215    1\n",
       "3349    0\n",
       "       ..\n",
       "3709    0\n",
       "538     0\n",
       "6725    1\n",
       "5049    0\n",
       "389     0\n",
       "Name: Churn, Length: 5635, dtype: int64"
      ]
     },
     "execution_count": 7,
     "metadata": {},
     "output_type": "execute_result"
    }
   ],
   "source": [
    "y_train"
   ]
  },
  {
   "cell_type": "markdown",
   "metadata": {},
   "source": [
    "1. Import dependencies"
   ]
  },
  {
   "cell_type": "code",
   "execution_count": 8,
   "metadata": {},
   "outputs": [],
   "source": [
    "from tensorflow.keras.models import Sequential, load_model\n",
    "from tensorflow.keras.layers import Dense\n",
    "import tensorflow as tf\n",
    "from sklearn.metrics import accuracy_score"
   ]
  },
  {
   "cell_type": "markdown",
   "metadata": {},
   "source": [
    "2. Build and Compile Model"
   ]
  },
  {
   "cell_type": "code",
   "execution_count": 168,
   "metadata": {},
   "outputs": [],
   "source": [
    "model = Sequential()\n",
    "model.add(Dense(units=32, activation='relu', input_dim=len(x_train.columns))) # dimensions are number of column features\n",
    "model.add(Dense(units=64, activation='relu')) # relu is projecting the node 0<feature<1\n",
    "model.add(Dense(units=1, activation='sigmoid')) ## for binary classification"
   ]
  },
  {
   "cell_type": "markdown",
   "metadata": {},
   "source": [
    "Must compile model by letting it learn. \n",
    "Include optimizer and accurary metrics."
   ]
  },
  {
   "cell_type": "code",
   "execution_count": 169,
   "metadata": {},
   "outputs": [],
   "source": [
    "model.compile(loss='binary_crossentropy', optimizer='sgd', metrics='accuracy')"
   ]
  },
  {
   "cell_type": "markdown",
   "metadata": {},
   "source": [
    "This step matters after you get the input dimensions from len(x_train columns), you put into model fit it must be in tensors => for tf to train"
   ]
  },
  {
   "cell_type": "code",
   "execution_count": 170,
   "metadata": {},
   "outputs": [],
   "source": [
    "x_train = np.asarray(x_train).astype('float32')\n",
    "y_train = np.asarray(y_train).astype('float32')\n",
    "## You will also need it for these\n",
    "x_test = np.asarray(x_test).astype('float32')\n",
    "y_test = np.asarray(y_test).astype('float32')"
   ]
  },
  {
   "cell_type": "code",
   "execution_count": 171,
   "metadata": {},
   "outputs": [
    {
     "name": "stdout",
     "output_type": "stream",
     "text": [
      "Epoch 1/200\n",
      "177/177 [==============================] - 1s 2ms/step - loss: 0.5110 - accuracy: 0.7512\n",
      "Epoch 2/200\n",
      "177/177 [==============================] - 0s 2ms/step - loss: 0.4871 - accuracy: 0.7689\n",
      "Epoch 3/200\n",
      "177/177 [==============================] - 0s 2ms/step - loss: 0.4802 - accuracy: 0.7766\n",
      "Epoch 4/200\n",
      "177/177 [==============================] - 0s 2ms/step - loss: 0.4755 - accuracy: 0.7787\n",
      "Epoch 5/200\n",
      "177/177 [==============================] - 0s 2ms/step - loss: 0.4725 - accuracy: 0.7839\n",
      "Epoch 6/200\n",
      "177/177 [==============================] - 0s 2ms/step - loss: 0.4684 - accuracy: 0.7808\n",
      "Epoch 7/200\n",
      "177/177 [==============================] - 0s 2ms/step - loss: 0.4684 - accuracy: 0.7808\n",
      "Epoch 8/200\n",
      "177/177 [==============================] - 0s 2ms/step - loss: 0.4657 - accuracy: 0.7835\n",
      "Epoch 9/200\n",
      "177/177 [==============================] - 0s 2ms/step - loss: 0.4643 - accuracy: 0.7844\n",
      "Epoch 10/200\n",
      "177/177 [==============================] - 0s 2ms/step - loss: 0.4607 - accuracy: 0.7826\n",
      "Epoch 11/200\n",
      "177/177 [==============================] - 0s 2ms/step - loss: 0.4614 - accuracy: 0.7854\n",
      "Epoch 12/200\n",
      "177/177 [==============================] - 0s 2ms/step - loss: 0.4601 - accuracy: 0.7870\n",
      "Epoch 13/200\n",
      "177/177 [==============================] - 0s 2ms/step - loss: 0.4579 - accuracy: 0.7849\n",
      "Epoch 14/200\n",
      "177/177 [==============================] - 0s 2ms/step - loss: 0.4563 - accuracy: 0.7881\n",
      "Epoch 15/200\n",
      "177/177 [==============================] - 0s 2ms/step - loss: 0.4569 - accuracy: 0.7849\n",
      "Epoch 16/200\n",
      "177/177 [==============================] - 0s 3ms/step - loss: 0.4541 - accuracy: 0.7863\n",
      "Epoch 17/200\n",
      "177/177 [==============================] - 0s 2ms/step - loss: 0.4529 - accuracy: 0.7854\n",
      "Epoch 18/200\n",
      "177/177 [==============================] - 0s 2ms/step - loss: 0.4566 - accuracy: 0.7844\n",
      "Epoch 19/200\n",
      "177/177 [==============================] - 1s 3ms/step - loss: 0.4539 - accuracy: 0.7876\n",
      "Epoch 20/200\n",
      "177/177 [==============================] - 0s 3ms/step - loss: 0.4536 - accuracy: 0.7862\n",
      "Epoch 21/200\n",
      "177/177 [==============================] - 0s 2ms/step - loss: 0.4490 - accuracy: 0.7860\n",
      "Epoch 22/200\n",
      "177/177 [==============================] - 0s 2ms/step - loss: 0.4523 - accuracy: 0.7870\n",
      "Epoch 23/200\n",
      "177/177 [==============================] - 0s 2ms/step - loss: 0.4498 - accuracy: 0.7858\n",
      "Epoch 24/200\n",
      "177/177 [==============================] - 0s 2ms/step - loss: 0.4500 - accuracy: 0.7885\n",
      "Epoch 25/200\n",
      "177/177 [==============================] - 0s 2ms/step - loss: 0.4479 - accuracy: 0.7854\n",
      "Epoch 26/200\n",
      "177/177 [==============================] - 0s 2ms/step - loss: 0.4478 - accuracy: 0.7865\n",
      "Epoch 27/200\n",
      "177/177 [==============================] - 0s 2ms/step - loss: 0.4515 - accuracy: 0.7904\n",
      "Epoch 28/200\n",
      "177/177 [==============================] - 0s 2ms/step - loss: 0.4486 - accuracy: 0.7862\n",
      "Epoch 29/200\n",
      "177/177 [==============================] - 0s 2ms/step - loss: 0.4497 - accuracy: 0.7815\n",
      "Epoch 30/200\n",
      "177/177 [==============================] - 0s 2ms/step - loss: 0.4470 - accuracy: 0.7844\n",
      "Epoch 31/200\n",
      "177/177 [==============================] - 0s 2ms/step - loss: 0.4477 - accuracy: 0.7872\n",
      "Epoch 32/200\n",
      "177/177 [==============================] - 0s 2ms/step - loss: 0.4534 - accuracy: 0.7815\n",
      "Epoch 33/200\n",
      "177/177 [==============================] - 0s 2ms/step - loss: 0.4509 - accuracy: 0.7771\n",
      "Epoch 34/200\n",
      "177/177 [==============================] - 0s 2ms/step - loss: 0.4499 - accuracy: 0.7833\n",
      "Epoch 35/200\n",
      "177/177 [==============================] - 0s 2ms/step - loss: 0.4501 - accuracy: 0.7886\n",
      "Epoch 36/200\n",
      "177/177 [==============================] - 0s 2ms/step - loss: 0.4486 - accuracy: 0.7890\n",
      "Epoch 37/200\n",
      "177/177 [==============================] - 0s 2ms/step - loss: 0.4492 - accuracy: 0.7851\n",
      "Epoch 38/200\n",
      "177/177 [==============================] - 0s 2ms/step - loss: 0.4488 - accuracy: 0.7801\n",
      "Epoch 39/200\n",
      "177/177 [==============================] - 0s 2ms/step - loss: 0.4449 - accuracy: 0.7876\n",
      "Epoch 40/200\n",
      "177/177 [==============================] - 0s 2ms/step - loss: 0.4478 - accuracy: 0.7833\n",
      "Epoch 41/200\n",
      "177/177 [==============================] - 0s 2ms/step - loss: 0.4442 - accuracy: 0.7846\n",
      "Epoch 42/200\n",
      "177/177 [==============================] - 0s 2ms/step - loss: 0.4443 - accuracy: 0.7860\n",
      "Epoch 43/200\n",
      "177/177 [==============================] - 0s 2ms/step - loss: 0.4448 - accuracy: 0.7885\n",
      "Epoch 44/200\n",
      "177/177 [==============================] - 0s 2ms/step - loss: 0.4450 - accuracy: 0.7844\n",
      "Epoch 45/200\n",
      "177/177 [==============================] - 0s 2ms/step - loss: 0.4440 - accuracy: 0.7906\n",
      "Epoch 46/200\n",
      "177/177 [==============================] - 0s 2ms/step - loss: 0.4431 - accuracy: 0.7879\n",
      "Epoch 47/200\n",
      "177/177 [==============================] - 0s 2ms/step - loss: 0.4405 - accuracy: 0.7909\n",
      "Epoch 48/200\n",
      "177/177 [==============================] - 0s 2ms/step - loss: 0.4432 - accuracy: 0.7911\n",
      "Epoch 49/200\n",
      "177/177 [==============================] - 0s 2ms/step - loss: 0.4413 - accuracy: 0.7901\n",
      "Epoch 50/200\n",
      "177/177 [==============================] - 0s 2ms/step - loss: 0.4466 - accuracy: 0.7846\n",
      "Epoch 51/200\n",
      "177/177 [==============================] - 0s 2ms/step - loss: 0.4413 - accuracy: 0.7940\n",
      "Epoch 52/200\n",
      "177/177 [==============================] - 0s 2ms/step - loss: 0.4407 - accuracy: 0.7904\n",
      "Epoch 53/200\n",
      "177/177 [==============================] - 0s 2ms/step - loss: 0.4387 - accuracy: 0.7938\n",
      "Epoch 54/200\n",
      "177/177 [==============================] - 0s 2ms/step - loss: 0.4406 - accuracy: 0.7878\n",
      "Epoch 55/200\n",
      "177/177 [==============================] - 0s 2ms/step - loss: 0.4398 - accuracy: 0.7918\n",
      "Epoch 56/200\n",
      "177/177 [==============================] - 0s 2ms/step - loss: 0.4388 - accuracy: 0.7890\n",
      "Epoch 57/200\n",
      "177/177 [==============================] - 0s 2ms/step - loss: 0.4414 - accuracy: 0.7913\n",
      "Epoch 58/200\n",
      "177/177 [==============================] - 0s 2ms/step - loss: 0.4392 - accuracy: 0.7934\n",
      "Epoch 59/200\n",
      "177/177 [==============================] - 0s 2ms/step - loss: 0.4362 - accuracy: 0.7929\n",
      "Epoch 60/200\n",
      "177/177 [==============================] - 0s 2ms/step - loss: 0.4402 - accuracy: 0.7938\n",
      "Epoch 61/200\n",
      "177/177 [==============================] - 0s 2ms/step - loss: 0.4378 - accuracy: 0.7957\n",
      "Epoch 62/200\n",
      "177/177 [==============================] - 0s 2ms/step - loss: 0.4361 - accuracy: 0.7908\n",
      "Epoch 63/200\n",
      "177/177 [==============================] - 0s 2ms/step - loss: 0.4354 - accuracy: 0.7929\n",
      "Epoch 64/200\n",
      "177/177 [==============================] - 0s 2ms/step - loss: 0.4362 - accuracy: 0.7943\n",
      "Epoch 65/200\n",
      "177/177 [==============================] - 0s 2ms/step - loss: 0.4360 - accuracy: 0.7925\n",
      "Epoch 66/200\n",
      "177/177 [==============================] - 0s 2ms/step - loss: 0.4361 - accuracy: 0.7934\n",
      "Epoch 67/200\n",
      "177/177 [==============================] - 0s 2ms/step - loss: 0.4418 - accuracy: 0.7929\n",
      "Epoch 68/200\n",
      "177/177 [==============================] - 0s 2ms/step - loss: 0.4372 - accuracy: 0.7965\n",
      "Epoch 69/200\n",
      "177/177 [==============================] - 0s 2ms/step - loss: 0.4368 - accuracy: 0.7888\n",
      "Epoch 70/200\n",
      "177/177 [==============================] - 0s 2ms/step - loss: 0.4374 - accuracy: 0.7883\n",
      "Epoch 71/200\n",
      "177/177 [==============================] - 0s 2ms/step - loss: 0.4337 - accuracy: 0.7943\n",
      "Epoch 72/200\n",
      "177/177 [==============================] - 0s 2ms/step - loss: 0.4342 - accuracy: 0.7952\n",
      "Epoch 73/200\n",
      "177/177 [==============================] - 0s 2ms/step - loss: 0.4350 - accuracy: 0.7938\n",
      "Epoch 74/200\n",
      "177/177 [==============================] - 0s 2ms/step - loss: 0.4330 - accuracy: 0.7929\n",
      "Epoch 75/200\n",
      "177/177 [==============================] - 0s 2ms/step - loss: 0.4339 - accuracy: 0.7945\n",
      "Epoch 76/200\n",
      "177/177 [==============================] - 0s 2ms/step - loss: 0.4338 - accuracy: 0.7950\n",
      "Epoch 77/200\n",
      "177/177 [==============================] - 0s 2ms/step - loss: 0.4297 - accuracy: 0.7982\n",
      "Epoch 78/200\n",
      "177/177 [==============================] - 0s 2ms/step - loss: 0.4321 - accuracy: 0.7906\n",
      "Epoch 79/200\n",
      "177/177 [==============================] - 0s 2ms/step - loss: 0.4362 - accuracy: 0.7906\n",
      "Epoch 80/200\n",
      "177/177 [==============================] - 0s 2ms/step - loss: 0.4297 - accuracy: 0.7977\n",
      "Epoch 81/200\n",
      "177/177 [==============================] - 0s 2ms/step - loss: 0.4317 - accuracy: 0.7943\n",
      "Epoch 82/200\n",
      "177/177 [==============================] - 0s 2ms/step - loss: 0.4306 - accuracy: 0.7952\n",
      "Epoch 83/200\n",
      "177/177 [==============================] - 0s 2ms/step - loss: 0.4276 - accuracy: 0.7949\n",
      "Epoch 84/200\n",
      "177/177 [==============================] - 0s 2ms/step - loss: 0.4313 - accuracy: 0.7940\n",
      "Epoch 85/200\n",
      "177/177 [==============================] - 0s 2ms/step - loss: 0.4305 - accuracy: 0.7957\n",
      "Epoch 86/200\n",
      "177/177 [==============================] - 0s 2ms/step - loss: 0.4296 - accuracy: 0.7931\n",
      "Epoch 87/200\n",
      "177/177 [==============================] - 0s 2ms/step - loss: 0.4272 - accuracy: 0.7963\n",
      "Epoch 88/200\n",
      "177/177 [==============================] - 0s 2ms/step - loss: 0.4299 - accuracy: 0.7941\n",
      "Epoch 89/200\n",
      "177/177 [==============================] - 0s 2ms/step - loss: 0.4308 - accuracy: 0.7959\n",
      "Epoch 90/200\n",
      "177/177 [==============================] - 0s 2ms/step - loss: 0.4269 - accuracy: 0.8007\n",
      "Epoch 91/200\n",
      "177/177 [==============================] - 0s 2ms/step - loss: 0.4294 - accuracy: 0.7980\n",
      "Epoch 92/200\n",
      "177/177 [==============================] - 0s 2ms/step - loss: 0.4281 - accuracy: 0.7943\n",
      "Epoch 93/200\n",
      "177/177 [==============================] - 0s 2ms/step - loss: 0.4303 - accuracy: 0.7970\n",
      "Epoch 94/200\n",
      "177/177 [==============================] - 0s 2ms/step - loss: 0.4247 - accuracy: 0.8055\n",
      "Epoch 95/200\n",
      "177/177 [==============================] - 0s 2ms/step - loss: 0.4270 - accuracy: 0.7980\n",
      "Epoch 96/200\n",
      "177/177 [==============================] - 0s 2ms/step - loss: 0.4308 - accuracy: 0.7915\n",
      "Epoch 97/200\n",
      "177/177 [==============================] - 0s 2ms/step - loss: 0.4236 - accuracy: 0.7968\n",
      "Epoch 98/200\n",
      "177/177 [==============================] - 0s 2ms/step - loss: 0.4259 - accuracy: 0.7956\n",
      "Epoch 99/200\n",
      "177/177 [==============================] - 0s 2ms/step - loss: 0.4270 - accuracy: 0.7947\n",
      "Epoch 100/200\n",
      "177/177 [==============================] - 0s 2ms/step - loss: 0.4249 - accuracy: 0.7968\n",
      "Epoch 101/200\n",
      "177/177 [==============================] - 0s 2ms/step - loss: 0.4286 - accuracy: 0.7933\n",
      "Epoch 102/200\n",
      "177/177 [==============================] - 0s 2ms/step - loss: 0.4258 - accuracy: 0.7963\n",
      "Epoch 103/200\n",
      "177/177 [==============================] - 0s 2ms/step - loss: 0.4282 - accuracy: 0.7961\n",
      "Epoch 104/200\n",
      "177/177 [==============================] - 0s 2ms/step - loss: 0.4252 - accuracy: 0.7947\n",
      "Epoch 105/200\n",
      "177/177 [==============================] - 0s 2ms/step - loss: 0.4264 - accuracy: 0.7996\n",
      "Epoch 106/200\n",
      "177/177 [==============================] - 0s 2ms/step - loss: 0.4278 - accuracy: 0.7945\n",
      "Epoch 107/200\n",
      "177/177 [==============================] - 0s 2ms/step - loss: 0.4298 - accuracy: 0.7959\n",
      "Epoch 108/200\n",
      "177/177 [==============================] - 0s 2ms/step - loss: 0.4217 - accuracy: 0.7961\n",
      "Epoch 109/200\n",
      "177/177 [==============================] - 0s 2ms/step - loss: 0.4241 - accuracy: 0.7952\n",
      "Epoch 110/200\n",
      "177/177 [==============================] - 0s 2ms/step - loss: 0.4334 - accuracy: 0.7965\n",
      "Epoch 111/200\n",
      "177/177 [==============================] - 0s 2ms/step - loss: 0.4298 - accuracy: 0.7943\n",
      "Epoch 112/200\n",
      "177/177 [==============================] - 0s 2ms/step - loss: 0.4277 - accuracy: 0.7924\n",
      "Epoch 113/200\n",
      "177/177 [==============================] - 0s 2ms/step - loss: 0.4268 - accuracy: 0.7989\n",
      "Epoch 114/200\n",
      "177/177 [==============================] - 0s 2ms/step - loss: 0.4225 - accuracy: 0.7982\n",
      "Epoch 115/200\n",
      "177/177 [==============================] - 0s 2ms/step - loss: 0.4229 - accuracy: 0.7966\n",
      "Epoch 116/200\n",
      "177/177 [==============================] - 0s 2ms/step - loss: 0.4263 - accuracy: 0.7968\n",
      "Epoch 117/200\n",
      "177/177 [==============================] - 0s 2ms/step - loss: 0.4245 - accuracy: 0.7943\n",
      "Epoch 118/200\n",
      "177/177 [==============================] - 0s 2ms/step - loss: 0.4387 - accuracy: 0.7894\n",
      "Epoch 119/200\n",
      "177/177 [==============================] - 0s 2ms/step - loss: 0.4245 - accuracy: 0.7950\n",
      "Epoch 120/200\n",
      "177/177 [==============================] - 0s 2ms/step - loss: 0.4236 - accuracy: 0.7956\n",
      "Epoch 121/200\n",
      "177/177 [==============================] - 0s 2ms/step - loss: 0.4275 - accuracy: 0.7996\n",
      "Epoch 122/200\n",
      "177/177 [==============================] - 0s 2ms/step - loss: 0.4283 - accuracy: 0.7980\n",
      "Epoch 123/200\n",
      "177/177 [==============================] - 0s 2ms/step - loss: 0.4268 - accuracy: 0.7968\n",
      "Epoch 124/200\n",
      "177/177 [==============================] - 0s 2ms/step - loss: 0.4230 - accuracy: 0.8002\n",
      "Epoch 125/200\n",
      "177/177 [==============================] - 0s 2ms/step - loss: 0.4226 - accuracy: 0.7972\n",
      "Epoch 126/200\n",
      "177/177 [==============================] - 0s 2ms/step - loss: 0.4252 - accuracy: 0.8007\n",
      "Epoch 127/200\n",
      "177/177 [==============================] - 0s 2ms/step - loss: 0.4252 - accuracy: 0.7972\n",
      "Epoch 128/200\n",
      "177/177 [==============================] - 0s 2ms/step - loss: 0.4245 - accuracy: 0.8000\n",
      "Epoch 129/200\n",
      "177/177 [==============================] - 0s 2ms/step - loss: 0.4224 - accuracy: 0.7980\n",
      "Epoch 130/200\n",
      "177/177 [==============================] - 0s 2ms/step - loss: 0.4223 - accuracy: 0.8012\n",
      "Epoch 131/200\n",
      "177/177 [==============================] - 0s 2ms/step - loss: 0.4243 - accuracy: 0.7965\n",
      "Epoch 132/200\n",
      "177/177 [==============================] - 0s 2ms/step - loss: 0.4199 - accuracy: 0.7998\n",
      "Epoch 133/200\n",
      "177/177 [==============================] - 0s 2ms/step - loss: 0.4239 - accuracy: 0.7957\n",
      "Epoch 134/200\n",
      "177/177 [==============================] - 0s 2ms/step - loss: 0.4234 - accuracy: 0.7991\n",
      "Epoch 135/200\n",
      "177/177 [==============================] - 0s 2ms/step - loss: 0.4240 - accuracy: 0.7972\n",
      "Epoch 136/200\n",
      "177/177 [==============================] - 0s 2ms/step - loss: 0.4200 - accuracy: 0.7965\n",
      "Epoch 137/200\n",
      "177/177 [==============================] - 0s 2ms/step - loss: 0.4237 - accuracy: 0.7963\n",
      "Epoch 138/200\n",
      "177/177 [==============================] - 0s 2ms/step - loss: 0.4239 - accuracy: 0.8016\n",
      "Epoch 139/200\n",
      "177/177 [==============================] - 0s 2ms/step - loss: 0.4240 - accuracy: 0.8020\n",
      "Epoch 140/200\n",
      "177/177 [==============================] - 0s 2ms/step - loss: 0.4230 - accuracy: 0.7977\n",
      "Epoch 141/200\n",
      "177/177 [==============================] - 0s 2ms/step - loss: 0.4229 - accuracy: 0.8002\n",
      "Epoch 142/200\n",
      "177/177 [==============================] - 0s 2ms/step - loss: 0.4209 - accuracy: 0.7986\n",
      "Epoch 143/200\n",
      "177/177 [==============================] - 0s 2ms/step - loss: 0.4209 - accuracy: 0.8007\n",
      "Epoch 144/200\n",
      "177/177 [==============================] - 0s 2ms/step - loss: 0.4209 - accuracy: 0.8002\n",
      "Epoch 145/200\n",
      "177/177 [==============================] - 0s 2ms/step - loss: 0.4202 - accuracy: 0.8018\n",
      "Epoch 146/200\n",
      "177/177 [==============================] - 0s 2ms/step - loss: 0.4254 - accuracy: 0.7984\n",
      "Epoch 147/200\n",
      "177/177 [==============================] - 0s 3ms/step - loss: 0.4245 - accuracy: 0.7949\n",
      "Epoch 148/200\n",
      "177/177 [==============================] - 0s 2ms/step - loss: 0.4217 - accuracy: 0.8004\n",
      "Epoch 149/200\n",
      "177/177 [==============================] - 0s 2ms/step - loss: 0.4216 - accuracy: 0.8011\n",
      "Epoch 150/200\n",
      "177/177 [==============================] - 0s 2ms/step - loss: 0.4219 - accuracy: 0.7975\n",
      "Epoch 151/200\n",
      "177/177 [==============================] - 0s 2ms/step - loss: 0.4220 - accuracy: 0.8009\n",
      "Epoch 152/200\n",
      "177/177 [==============================] - 0s 2ms/step - loss: 0.4247 - accuracy: 0.7984\n",
      "Epoch 153/200\n",
      "177/177 [==============================] - 0s 2ms/step - loss: 0.4205 - accuracy: 0.7995\n",
      "Epoch 154/200\n",
      "177/177 [==============================] - 0s 2ms/step - loss: 0.4214 - accuracy: 0.8032\n",
      "Epoch 155/200\n",
      "177/177 [==============================] - 0s 2ms/step - loss: 0.4203 - accuracy: 0.8007\n",
      "Epoch 156/200\n",
      "177/177 [==============================] - 0s 2ms/step - loss: 0.4251 - accuracy: 0.7972\n",
      "Epoch 157/200\n",
      "177/177 [==============================] - 0s 2ms/step - loss: 0.4211 - accuracy: 0.8005\n",
      "Epoch 158/200\n",
      "177/177 [==============================] - 0s 2ms/step - loss: 0.4204 - accuracy: 0.7966\n",
      "Epoch 159/200\n",
      "177/177 [==============================] - 0s 2ms/step - loss: 0.4188 - accuracy: 0.8009\n",
      "Epoch 160/200\n",
      "177/177 [==============================] - 0s 2ms/step - loss: 0.4197 - accuracy: 0.7993\n",
      "Epoch 161/200\n",
      "177/177 [==============================] - 0s 2ms/step - loss: 0.4227 - accuracy: 0.7956\n",
      "Epoch 162/200\n",
      "177/177 [==============================] - 0s 2ms/step - loss: 0.4180 - accuracy: 0.8032\n",
      "Epoch 163/200\n",
      "177/177 [==============================] - 0s 2ms/step - loss: 0.4203 - accuracy: 0.8048\n",
      "Epoch 164/200\n",
      "177/177 [==============================] - 0s 2ms/step - loss: 0.4202 - accuracy: 0.7989\n",
      "Epoch 165/200\n",
      "177/177 [==============================] - 0s 2ms/step - loss: 0.4211 - accuracy: 0.8007\n",
      "Epoch 166/200\n",
      "177/177 [==============================] - 0s 2ms/step - loss: 0.4248 - accuracy: 0.7956\n",
      "Epoch 167/200\n",
      "177/177 [==============================] - 0s 2ms/step - loss: 0.4183 - accuracy: 0.8025\n",
      "Epoch 168/200\n",
      "177/177 [==============================] - 0s 2ms/step - loss: 0.4203 - accuracy: 0.8016\n",
      "Epoch 169/200\n",
      "177/177 [==============================] - 0s 2ms/step - loss: 0.4191 - accuracy: 0.7959\n",
      "Epoch 170/200\n",
      "177/177 [==============================] - 0s 2ms/step - loss: 0.4178 - accuracy: 0.7970\n",
      "Epoch 171/200\n",
      "177/177 [==============================] - 0s 2ms/step - loss: 0.4199 - accuracy: 0.8011\n",
      "Epoch 172/200\n",
      "177/177 [==============================] - 0s 2ms/step - loss: 0.4184 - accuracy: 0.7988\n",
      "Epoch 173/200\n",
      "177/177 [==============================] - 0s 2ms/step - loss: 0.4184 - accuracy: 0.8007\n",
      "Epoch 174/200\n",
      "177/177 [==============================] - 0s 2ms/step - loss: 0.4180 - accuracy: 0.7991\n",
      "Epoch 175/200\n",
      "177/177 [==============================] - 0s 2ms/step - loss: 0.4183 - accuracy: 0.8012\n",
      "Epoch 176/200\n",
      "177/177 [==============================] - 0s 2ms/step - loss: 0.4181 - accuracy: 0.7991\n",
      "Epoch 177/200\n",
      "177/177 [==============================] - 0s 2ms/step - loss: 0.4192 - accuracy: 0.8034\n",
      "Epoch 178/200\n",
      "177/177 [==============================] - 0s 2ms/step - loss: 0.4214 - accuracy: 0.8032\n",
      "Epoch 179/200\n",
      "177/177 [==============================] - 0s 2ms/step - loss: 0.4181 - accuracy: 0.7996\n",
      "Epoch 180/200\n",
      "177/177 [==============================] - 0s 2ms/step - loss: 0.4219 - accuracy: 0.8007\n",
      "Epoch 181/200\n",
      "177/177 [==============================] - 0s 2ms/step - loss: 0.4197 - accuracy: 0.8035\n",
      "Epoch 182/200\n",
      "177/177 [==============================] - 0s 2ms/step - loss: 0.4188 - accuracy: 0.8020\n",
      "Epoch 183/200\n",
      "177/177 [==============================] - 0s 2ms/step - loss: 0.4158 - accuracy: 0.8012\n",
      "Epoch 184/200\n",
      "177/177 [==============================] - 0s 2ms/step - loss: 0.4180 - accuracy: 0.8025\n",
      "Epoch 185/200\n",
      "177/177 [==============================] - 0s 2ms/step - loss: 0.4197 - accuracy: 0.7982\n",
      "Epoch 186/200\n",
      "177/177 [==============================] - 0s 2ms/step - loss: 0.4204 - accuracy: 0.8037\n",
      "Epoch 187/200\n",
      "177/177 [==============================] - 0s 2ms/step - loss: 0.4188 - accuracy: 0.7988\n",
      "Epoch 188/200\n",
      "177/177 [==============================] - 0s 2ms/step - loss: 0.4216 - accuracy: 0.8037\n",
      "Epoch 189/200\n",
      "177/177 [==============================] - 0s 2ms/step - loss: 0.4176 - accuracy: 0.8064\n",
      "Epoch 190/200\n",
      "177/177 [==============================] - 0s 2ms/step - loss: 0.4264 - accuracy: 0.8002\n",
      "Epoch 191/200\n",
      "177/177 [==============================] - 0s 2ms/step - loss: 0.4187 - accuracy: 0.7998\n",
      "Epoch 192/200\n",
      "177/177 [==============================] - 0s 2ms/step - loss: 0.4204 - accuracy: 0.8020\n",
      "Epoch 193/200\n",
      "177/177 [==============================] - 0s 2ms/step - loss: 0.4194 - accuracy: 0.8037\n",
      "Epoch 194/200\n",
      "177/177 [==============================] - 0s 2ms/step - loss: 0.4186 - accuracy: 0.8023\n",
      "Epoch 195/200\n",
      "177/177 [==============================] - 0s 2ms/step - loss: 0.4167 - accuracy: 0.8032\n",
      "Epoch 196/200\n",
      "177/177 [==============================] - 0s 2ms/step - loss: 0.4177 - accuracy: 0.8018\n",
      "Epoch 197/200\n",
      "177/177 [==============================] - 0s 2ms/step - loss: 0.4176 - accuracy: 0.8044\n",
      "Epoch 198/200\n",
      "177/177 [==============================] - 0s 2ms/step - loss: 0.4200 - accuracy: 0.8020\n",
      "Epoch 199/200\n",
      "177/177 [==============================] - 0s 2ms/step - loss: 0.4150 - accuracy: 0.8048\n",
      "Epoch 200/200\n",
      "177/177 [==============================] - 0s 2ms/step - loss: 0.4167 - accuracy: 0.8000\n"
     ]
    },
    {
     "data": {
      "text/plain": [
       "<keras.src.callbacks.History at 0x1bf5e292910>"
      ]
     },
     "execution_count": 171,
     "metadata": {},
     "output_type": "execute_result"
    }
   ],
   "source": [
    "model.fit(x_train, y_train, epochs=200, batch_size=32)"
   ]
  },
  {
   "cell_type": "code",
   "execution_count": 172,
   "metadata": {},
   "outputs": [
    {
     "name": "stdout",
     "output_type": "stream",
     "text": [
      "45/45 [==============================] - 0s 1ms/step\n"
     ]
    }
   ],
   "source": [
    "y_hat = model.predict(x_test)\n",
    "y_hat = [0 if val < 0.5 else 1 for val in y_hat]"
   ]
  },
  {
   "cell_type": "markdown",
   "metadata": {},
   "source": [
    "Testing accuracy of model using initial 20% of from y dataset"
   ]
  },
  {
   "cell_type": "code",
   "execution_count": 173,
   "metadata": {},
   "outputs": [
    {
     "data": {
      "text/plain": [
       "0.7998580553584103"
      ]
     },
     "execution_count": 173,
     "metadata": {},
     "output_type": "execute_result"
    }
   ],
   "source": [
    "accuracy_score(y_test, y_hat)"
   ]
  },
  {
   "cell_type": "code",
   "execution_count": 174,
   "metadata": {},
   "outputs": [
    {
     "name": "stdout",
     "output_type": "stream",
     "text": [
      "INFO:tensorflow:Assets written to: tfmodel\\assets\n"
     ]
    },
    {
     "name": "stderr",
     "output_type": "stream",
     "text": [
      "INFO:tensorflow:Assets written to: tfmodel\\assets\n"
     ]
    }
   ],
   "source": [
    "model.save('tfmodel')"
   ]
  },
  {
   "cell_type": "code",
   "execution_count": 10,
   "metadata": {},
   "outputs": [],
   "source": [
    "model = tf.saved_model.load(\"tfmodel\")"
   ]
  },
  {
   "cell_type": "code",
   "execution_count": 177,
   "metadata": {},
   "outputs": [
    {
     "name": "stdout",
     "output_type": "stream",
     "text": [
      "Python 3.11.5\n",
      "Num GPUs Available 0\n"
     ]
    }
   ],
   "source": [
    "!python --version\n",
    "import tensorflow as tf\n",
    "print(\"Num GPUs Available\", len(tf.config.experimental.list_physical_devices('GPU')))"
   ]
  },
  {
   "cell_type": "code",
   "execution_count": null,
   "metadata": {},
   "outputs": [],
   "source": []
  }
 ],
 "metadata": {
  "kernelspec": {
   "display_name": "Python 3",
   "language": "python",
   "name": "python3"
  },
  "language_info": {
   "codemirror_mode": {
    "name": "ipython",
    "version": 3
   },
   "file_extension": ".py",
   "mimetype": "text/x-python",
   "name": "python",
   "nbconvert_exporter": "python",
   "pygments_lexer": "ipython3",
   "version": "3.9.1"
  }
 },
 "nbformat": 4,
 "nbformat_minor": 2
}
